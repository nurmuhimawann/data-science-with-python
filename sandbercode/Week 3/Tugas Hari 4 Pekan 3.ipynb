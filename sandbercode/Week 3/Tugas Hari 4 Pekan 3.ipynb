{
  "cells": [
    {
      "cell_type": "markdown",
      "metadata": {
        "id": "-l4VWD-3H8gf"
      },
      "source": [
        "Downoad  <a href=\"https://blog.sanbercode.com/wp-content/uploads/2020/05/vgsales.csv\">vgsales.csv</a>"
      ]
    },
    {
      "cell_type": "code",
      "execution_count": 12,
      "metadata": {
        "id": "9Ai0_dj_H4uz",
        "colab": {
          "base_uri": "https://localhost:8080/",
          "height": 206
        },
        "outputId": "45e96f4d-a0c2-42cf-b9bb-6c4e3f9c7e61"
      },
      "outputs": [
        {
          "output_type": "execute_result",
          "data": {
            "text/html": [
              "\n",
              "  <div id=\"df-28bfe18b-f85b-4063-ad19-d0fdd0ee09cb\">\n",
              "    <div class=\"colab-df-container\">\n",
              "      <div>\n",
              "<style scoped>\n",
              "    .dataframe tbody tr th:only-of-type {\n",
              "        vertical-align: middle;\n",
              "    }\n",
              "\n",
              "    .dataframe tbody tr th {\n",
              "        vertical-align: top;\n",
              "    }\n",
              "\n",
              "    .dataframe thead th {\n",
              "        text-align: right;\n",
              "    }\n",
              "</style>\n",
              "<table border=\"1\" class=\"dataframe\">\n",
              "  <thead>\n",
              "    <tr style=\"text-align: right;\">\n",
              "      <th></th>\n",
              "      <th>Rank</th>\n",
              "      <th>Name</th>\n",
              "      <th>Platform</th>\n",
              "      <th>Year</th>\n",
              "      <th>Genre</th>\n",
              "      <th>Publisher</th>\n",
              "      <th>NA_Sales</th>\n",
              "      <th>EU_Sales</th>\n",
              "      <th>JP_Sales</th>\n",
              "      <th>Other_Sales</th>\n",
              "      <th>Global_Sales</th>\n",
              "    </tr>\n",
              "  </thead>\n",
              "  <tbody>\n",
              "    <tr>\n",
              "      <th>0</th>\n",
              "      <td>1</td>\n",
              "      <td>Wii Sports</td>\n",
              "      <td>Wii</td>\n",
              "      <td>2006.0</td>\n",
              "      <td>Sports</td>\n",
              "      <td>Nintendo</td>\n",
              "      <td>41.49</td>\n",
              "      <td>29.02</td>\n",
              "      <td>3.77</td>\n",
              "      <td>8.46</td>\n",
              "      <td>82.74</td>\n",
              "    </tr>\n",
              "    <tr>\n",
              "      <th>1</th>\n",
              "      <td>2</td>\n",
              "      <td>Super Mario Bros.</td>\n",
              "      <td>NES</td>\n",
              "      <td>1985.0</td>\n",
              "      <td>Platform</td>\n",
              "      <td>Nintendo</td>\n",
              "      <td>29.08</td>\n",
              "      <td>3.58</td>\n",
              "      <td>6.81</td>\n",
              "      <td>0.77</td>\n",
              "      <td>40.24</td>\n",
              "    </tr>\n",
              "    <tr>\n",
              "      <th>2</th>\n",
              "      <td>3</td>\n",
              "      <td>Mario Kart Wii</td>\n",
              "      <td>Wii</td>\n",
              "      <td>2008.0</td>\n",
              "      <td>Racing</td>\n",
              "      <td>Nintendo</td>\n",
              "      <td>15.85</td>\n",
              "      <td>12.88</td>\n",
              "      <td>3.79</td>\n",
              "      <td>3.31</td>\n",
              "      <td>35.82</td>\n",
              "    </tr>\n",
              "    <tr>\n",
              "      <th>3</th>\n",
              "      <td>4</td>\n",
              "      <td>Wii Sports Resort</td>\n",
              "      <td>Wii</td>\n",
              "      <td>2009.0</td>\n",
              "      <td>Sports</td>\n",
              "      <td>Nintendo</td>\n",
              "      <td>15.75</td>\n",
              "      <td>11.01</td>\n",
              "      <td>3.28</td>\n",
              "      <td>2.96</td>\n",
              "      <td>33.00</td>\n",
              "    </tr>\n",
              "    <tr>\n",
              "      <th>4</th>\n",
              "      <td>5</td>\n",
              "      <td>Pokemon Red/Pokemon Blue</td>\n",
              "      <td>GB</td>\n",
              "      <td>1996.0</td>\n",
              "      <td>Role-Playing</td>\n",
              "      <td>Nintendo</td>\n",
              "      <td>11.27</td>\n",
              "      <td>8.89</td>\n",
              "      <td>10.22</td>\n",
              "      <td>1.00</td>\n",
              "      <td>31.37</td>\n",
              "    </tr>\n",
              "  </tbody>\n",
              "</table>\n",
              "</div>\n",
              "      <button class=\"colab-df-convert\" onclick=\"convertToInteractive('df-28bfe18b-f85b-4063-ad19-d0fdd0ee09cb')\"\n",
              "              title=\"Convert this dataframe to an interactive table.\"\n",
              "              style=\"display:none;\">\n",
              "        \n",
              "  <svg xmlns=\"http://www.w3.org/2000/svg\" height=\"24px\"viewBox=\"0 0 24 24\"\n",
              "       width=\"24px\">\n",
              "    <path d=\"M0 0h24v24H0V0z\" fill=\"none\"/>\n",
              "    <path d=\"M18.56 5.44l.94 2.06.94-2.06 2.06-.94-2.06-.94-.94-2.06-.94 2.06-2.06.94zm-11 1L8.5 8.5l.94-2.06 2.06-.94-2.06-.94L8.5 2.5l-.94 2.06-2.06.94zm10 10l.94 2.06.94-2.06 2.06-.94-2.06-.94-.94-2.06-.94 2.06-2.06.94z\"/><path d=\"M17.41 7.96l-1.37-1.37c-.4-.4-.92-.59-1.43-.59-.52 0-1.04.2-1.43.59L10.3 9.45l-7.72 7.72c-.78.78-.78 2.05 0 2.83L4 21.41c.39.39.9.59 1.41.59.51 0 1.02-.2 1.41-.59l7.78-7.78 2.81-2.81c.8-.78.8-2.07 0-2.86zM5.41 20L4 18.59l7.72-7.72 1.47 1.35L5.41 20z\"/>\n",
              "  </svg>\n",
              "      </button>\n",
              "      \n",
              "  <style>\n",
              "    .colab-df-container {\n",
              "      display:flex;\n",
              "      flex-wrap:wrap;\n",
              "      gap: 12px;\n",
              "    }\n",
              "\n",
              "    .colab-df-convert {\n",
              "      background-color: #E8F0FE;\n",
              "      border: none;\n",
              "      border-radius: 50%;\n",
              "      cursor: pointer;\n",
              "      display: none;\n",
              "      fill: #1967D2;\n",
              "      height: 32px;\n",
              "      padding: 0 0 0 0;\n",
              "      width: 32px;\n",
              "    }\n",
              "\n",
              "    .colab-df-convert:hover {\n",
              "      background-color: #E2EBFA;\n",
              "      box-shadow: 0px 1px 2px rgba(60, 64, 67, 0.3), 0px 1px 3px 1px rgba(60, 64, 67, 0.15);\n",
              "      fill: #174EA6;\n",
              "    }\n",
              "\n",
              "    [theme=dark] .colab-df-convert {\n",
              "      background-color: #3B4455;\n",
              "      fill: #D2E3FC;\n",
              "    }\n",
              "\n",
              "    [theme=dark] .colab-df-convert:hover {\n",
              "      background-color: #434B5C;\n",
              "      box-shadow: 0px 1px 3px 1px rgba(0, 0, 0, 0.15);\n",
              "      filter: drop-shadow(0px 1px 2px rgba(0, 0, 0, 0.3));\n",
              "      fill: #FFFFFF;\n",
              "    }\n",
              "  </style>\n",
              "\n",
              "      <script>\n",
              "        const buttonEl =\n",
              "          document.querySelector('#df-28bfe18b-f85b-4063-ad19-d0fdd0ee09cb button.colab-df-convert');\n",
              "        buttonEl.style.display =\n",
              "          google.colab.kernel.accessAllowed ? 'block' : 'none';\n",
              "\n",
              "        async function convertToInteractive(key) {\n",
              "          const element = document.querySelector('#df-28bfe18b-f85b-4063-ad19-d0fdd0ee09cb');\n",
              "          const dataTable =\n",
              "            await google.colab.kernel.invokeFunction('convertToInteractive',\n",
              "                                                     [key], {});\n",
              "          if (!dataTable) return;\n",
              "\n",
              "          const docLinkHtml = 'Like what you see? Visit the ' +\n",
              "            '<a target=\"_blank\" href=https://colab.research.google.com/notebooks/data_table.ipynb>data table notebook</a>'\n",
              "            + ' to learn more about interactive tables.';\n",
              "          element.innerHTML = '';\n",
              "          dataTable['output_type'] = 'display_data';\n",
              "          await google.colab.output.renderOutput(dataTable, element);\n",
              "          const docLink = document.createElement('div');\n",
              "          docLink.innerHTML = docLinkHtml;\n",
              "          element.appendChild(docLink);\n",
              "        }\n",
              "      </script>\n",
              "    </div>\n",
              "  </div>\n",
              "  "
            ],
            "text/plain": [
              "   Rank                      Name Platform  ...  JP_Sales Other_Sales Global_Sales\n",
              "0     1                Wii Sports      Wii  ...      3.77        8.46        82.74\n",
              "1     2         Super Mario Bros.      NES  ...      6.81        0.77        40.24\n",
              "2     3            Mario Kart Wii      Wii  ...      3.79        3.31        35.82\n",
              "3     4         Wii Sports Resort      Wii  ...      3.28        2.96        33.00\n",
              "4     5  Pokemon Red/Pokemon Blue       GB  ...     10.22        1.00        31.37\n",
              "\n",
              "[5 rows x 11 columns]"
            ]
          },
          "metadata": {},
          "execution_count": 12
        }
      ],
      "source": [
        "import pandas as pd\n",
        "import matplotlib.pyplot as plt\n",
        "\n",
        "df = pd.read_csv('vgsales.csv')\n",
        "df.head()"
      ]
    },
    {
      "cell_type": "markdown",
      "metadata": {
        "id": "k7HkS3vbIHi2"
      },
      "source": [
        "<h2>Soal 1: Preparing Data</h2>\n",
        "\n",
        "Manipulasi data tersebut dengan menggroupkan berdasarkan Genre, kemudian ambil rata2 penjualan untuk setiap Region Kecuali Global_Sales berdasarkan kategori Genre."
      ]
    },
    {
      "cell_type": "code",
      "execution_count": 13,
      "metadata": {
        "id": "qNB-rPxfIDHf"
      },
      "outputs": [],
      "source": [
        "#code here\n",
        "\n",
        "df = df.groupby('Genre')[['NA_Sales', 'EU_Sales', 'JP_Sales', 'Other_Sales']].mean()"
      ]
    },
    {
      "cell_type": "markdown",
      "metadata": {
        "id": "SGww4HDIIQ_w"
      },
      "source": [
        "Expected Output:\n",
        "\n",
        "![alt text](https://drive.google.com/uc?id=1dR4vthSt22gM_LdfSBZCMIKPL6xd7nVl)"
      ]
    },
    {
      "cell_type": "markdown",
      "metadata": {
        "id": "KW8ZbhuxIkFp"
      },
      "source": [
        "---"
      ]
    },
    {
      "cell_type": "markdown",
      "metadata": {
        "id": "bTBB4n1uIW3h"
      },
      "source": [
        "<h2>Soal 2: Perbandingan Kuantitatif Barplot - Grouping Visualisasi Dengan Barplot</h2>\n",
        "\n",
        "1. Visualisasikan gambar yang tadi kita manipulasi, untuk menghasilkan visualisasi seperti di bawah ini\n",
        "2. Tuliskan apa insight yang bisa kamu dapat dari visualisasi tersebut"
      ]
    },
    {
      "cell_type": "code",
      "source": [
        "df.index"
      ],
      "metadata": {
        "colab": {
          "base_uri": "https://localhost:8080/"
        },
        "id": "1dJfjeg5mymb",
        "outputId": "05251a65-35cd-4329-e68d-e15c3f8511f0"
      },
      "execution_count": 14,
      "outputs": [
        {
          "output_type": "execute_result",
          "data": {
            "text/plain": [
              "Index(['Action', 'Adventure', 'Fighting', 'Misc', 'Platform', 'Puzzle',\n",
              "       'Racing', 'Role-Playing', 'Shooter', 'Simulation', 'Sports',\n",
              "       'Strategy'],\n",
              "      dtype='object', name='Genre')"
            ]
          },
          "metadata": {},
          "execution_count": 14
        }
      ]
    },
    {
      "cell_type": "code",
      "execution_count": 15,
      "metadata": {
        "id": "EhSDL668IR6S",
        "colab": {
          "base_uri": "https://localhost:8080/",
          "height": 624
        },
        "outputId": "5f657fb7-1805-4402-a752-67c227bfbfde"
      },
      "outputs": [
        {
          "output_type": "display_data",
          "data": {
            "image/png": "[encoded data removed]",
            "text/plain": [
              "<Figure size 1296x648 with 1 Axes>"
            ]
          },
          "metadata": {
            "needs_background": "light"
          }
        }
      ],
      "source": [
        "#code here\n",
        "import numpy as np\n",
        "\n",
        "w = 0.13\n",
        "clr = ['y','grey','violet','b','r','pink','g','y','grey','violet','b','r']\n",
        "fig, ax = plt.subplots(figsize=(18,9))\n",
        "x = np.arange(0,8,2)\n",
        "\n",
        "i = 4\n",
        "j = 11\n",
        "for genre in df.index:\n",
        "    ax.bar(x-w*i, df.loc[genre], w, label=genre, color=clr[j])\n",
        "    i = i-1\n",
        "    j = j-1\n",
        "\n",
        "plt.style.use('seaborn')\n",
        "\n",
        "ax.set_title('Mean Sales Video Games by Genre')\n",
        "ax.set_ylabel('Mean Sales')\n",
        "ax.set_xlabel('Region Sales')\n",
        "\n",
        "ax.set_xticks(x)\n",
        "ax.set_xticklabels(list(df.columns))\n",
        "\n",
        "fig.legend(loc=1, frameon=True)\n",
        "plt.show()"
      ]
    },
    {
      "cell_type": "markdown",
      "metadata": {
        "id": "Vtds9OQHI2mG"
      },
      "source": [
        "Jawab: Dengan menggunakan Bar chart dapat memvisualisasikan frekuensi kejadian suatu data berdasarkan suatu kategori. Pada code tersebut kita dapat menggunakan looping menggunakan index untuk efisiensi syntax sehingga jika dalam suatu kategori terdapat banyak data kesalahan penulisan code bisa diminimalkan"
      ]
    },
    {
      "cell_type": "markdown",
      "metadata": {
        "id": "QYj6zWvJIh2x"
      },
      "source": [
        "Expected Output:\n",
        "\n",
        "![alt text](https://drive.google.com/uc?id=1A2s9Uy2i471VEYIZqMoVUIlZnVOUc8ha)"
      ]
    },
    {
      "cell_type": "markdown",
      "metadata": {
        "id": "_EZcVmKuImY3"
      },
      "source": [
        "---"
      ]
    },
    {
      "cell_type": "markdown",
      "metadata": {
        "id": "S40muXAkIrzu"
      },
      "source": [
        "<h2>Soal 3: Perbandingan Kuantitatif Barplot - Stack Barplot</h2>\n",
        "\n",
        "1. Visualisasikan gambar yang tadi kita manipulasi, untuk menhasilkan visualisasi seperti di bawah ini\n",
        "2. Tuliskan apa insight yang bisa kamu dapat dari visualisasi tersebut"
      ]
    },
    {
      "cell_type": "code",
      "execution_count": 18,
      "metadata": {
        "id": "ghjkVRCHIgTc",
        "colab": {
          "base_uri": "https://localhost:8080/",
          "height": 624
        },
        "outputId": "949be0c1-b497-4c65-f1ae-532495f53616"
      },
      "outputs": [
        {
          "output_type": "display_data",
          "data": {
            "image/png": "[encoded data removed]",
            "text/plain": [
              "<Figure size 1296x648 with 1 Axes>"
            ]
          },
          "metadata": {}
        }
      ],
      "source": [
        "#code here\n",
        "fig, ax = plt.subplots(figsize=(18,9))\n",
        "x = np.arange(0,4,1)\n",
        "\n",
        "i=0\n",
        "bt = 0\n",
        "j = 11\n",
        "clr = ['y','grey','violet','b','r','pink','g','y','grey','violet','b','r']\n",
        "for genre in df.index: \n",
        "    ix = df.loc[df.index[i-1]] if i>0 else 0\n",
        "    bt = bt + ix\n",
        "    ax.bar(x, df.loc[genre], label=genre, bottom=bt, color=clr[j])\n",
        "    i = i+1\n",
        "    j = j-1\n",
        "\n",
        "plt.style.use('seaborn')\n",
        "\n",
        "ax.set_title('Mean Sales Video Games by Genre')\n",
        "ax.set_ylabel('Mean Sales')\n",
        "ax.set_xlabel('Region Sales')\n",
        "\n",
        "ax.set_xticks(x)\n",
        "ax.set_xticklabels(list(df.columns))\n",
        "\n",
        "fig.legend(loc=1, frameon=True)\n",
        "plt.show()"
      ]
    },
    {
      "cell_type": "markdown",
      "metadata": {
        "id": "FVYvYcRTI5w3"
      },
      "source": [
        "Jawab: Dengan menggunakan Bar chart dapat memvisualisasikan frekuensi kejadian suatu data berdasarkan suatu kategori. Dengan stack plot kita dapat mengetahui perbandingan banyaknya data antar kategori dengan tinggi plot masing-masing"
      ]
    },
    {
      "cell_type": "markdown",
      "metadata": {
        "id": "TlTJFZF2Iwf-"
      },
      "source": [
        "Expected Output:\n",
        "\n",
        "![alt text](https://drive.google.com/uc?id=1_yis-3aZsEbsk68tpoPHoNlFftaz2GrO)"
      ]
    }
  ],
  "metadata": {
    "colab": {
      "collapsed_sections": [],
      "name": "Tugas Hari 4 Pekan 3.ipynb",
      "provenance": []
    },
    "interpreter": {
      "hash": "91ab936231c4f80b5426946a19edf759208d0624e4f5f13b07ed9e4aa8f46abf"
    },
    "kernelspec": {
      "display_name": "Python 3.9.7 64-bit",
      "name": "python3"
    },
    "language_info": {
      "codemirror_mode": {
        "name": "ipython",
        "version": 3
      },
      "file_extension": ".py",
      "mimetype": "text/x-python",
      "name": "python",
      "nbconvert_exporter": "python",
      "pygments_lexer": "ipython3",
      "version": "3.9.7"
    }
  },
  "nbformat": 4,
  "nbformat_minor": 0
}